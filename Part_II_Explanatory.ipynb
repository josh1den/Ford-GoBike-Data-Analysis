{
 "cells": [
  {
   "cell_type": "markdown",
   "metadata": {
    "slideshow": {
     "slide_type": "slide"
    }
   },
   "source": [
    "# Part II - Ford GoBike Data Exploration\n",
    "## by Josh Iden"
   ]
  },
  {
   "cell_type": "markdown",
   "metadata": {
    "slideshow": {
     "slide_type": "slide"
    }
   },
   "source": [
    "## Investigation Overview\n",
    "\n",
    "\n",
    "The Ford GoBike dataset provides key information about the bike sharing service in the San Francisco market for February 2019. The purpose of this analysis is to identify key rider trends and the popularity and characteristics of ridership."
   ]
  },
  {
   "cell_type": "markdown",
   "metadata": {
    "slideshow": {
     "slide_type": "slide"
    }
   },
   "source": [
    "## Dataset Overview\n",
    "\n",
    "The dataset consisted of 183,412 rows and 16 columns. Features included in this dataset:   \n",
    "\n",
    "- Duration of ride\n",
    "- Start Time\n",
    "- End Time\n",
    "- Start Station & Location (Latitude & Longitude)\n",
    "- End Station & Location (Latitude & Longitude)\n",
    "- User Type (Subscriber or Customer)\n",
    "- Member Birth Year\n",
    "- Member Gender"
   ]
  },
  {
   "cell_type": "code",
   "execution_count": 1,
   "metadata": {
    "slideshow": {
     "slide_type": "skip"
    }
   },
   "outputs": [],
   "source": [
    "# import all packages and set plots to be embedded inline\n",
    "import numpy as np\n",
    "import pandas as pd\n",
    "import matplotlib.pyplot as plt\n",
    "import seaborn as sns\n",
    "import datetime as dt\n",
    "from datetime import date\n",
    "\n",
    "%matplotlib inline\n",
    "sns.set_style('white')\n",
    "\n",
    "# suppress warnings from final output\n",
    "import warnings\n",
    "warnings.simplefilter(\"ignore\")"
   ]
  },
  {
   "cell_type": "code",
   "execution_count": 2,
   "metadata": {
    "slideshow": {
     "slide_type": "skip"
    }
   },
   "outputs": [],
   "source": [
    "# load in the dataset into a pandas dataframe\n",
    "df = pd.read_csv('201902-fordgobike-tripdata.csv')"
   ]
  },
  {
   "cell_type": "code",
   "execution_count": 3,
   "metadata": {
    "slideshow": {
     "slide_type": "skip"
    }
   },
   "outputs": [],
   "source": [
    "# convert start time and end time columns to datetime object\n",
    "df.start_time = pd.to_datetime(df.start_time)\n",
    "df.end_time = pd.to_datetime(df.end_time)\n",
    "\n",
    "# converting member_birth_year float values to int\n",
    "# replace the NaN values with zero\n",
    "df.member_birth_year.replace(np.nan, float(0), inplace=True)\n",
    "df.member_birth_year = df.member_birth_year.astype(int)\n",
    "# replace member_birth_year zero values with None\n",
    "df.member_birth_year.replace(0, None, inplace=True)\n",
    "\n",
    "# convert duration_sec column to minutes\n",
    "df['duration_min'] = round(df.duration_sec / 60).astype(int)\n",
    "\n",
    "# create a date column in the dataframe based on the start time column\n",
    "df['date'] = df.start_time.dt.to_period('D')\n",
    "\n",
    "# create day of week (dow) column\n",
    "df['dow'] = df['start_time'].dt.day_name()\n",
    "\n",
    "# create weekday column\n",
    "weekday = []\n",
    "days = ['Saturday', 'Sunday']\n",
    "\n",
    "# create weekday column \n",
    "for row in df.dow:\n",
    "    if row not in days:\n",
    "        weekday.append('Weekday')\n",
    "    else:\n",
    "        weekday.append('Weekend')\n",
    "        \n",
    "df['weekday'] = weekday\n",
    "df['weekday'] = df['weekday'].astype('category')\n",
    "\n",
    "# create age column\n",
    "# store current year\n",
    "current_year = date.today().year\n",
    "\n",
    "# create age column\n",
    "df['member_age'] = current_year - df['member_birth_year']\n",
    "df.loc[df.member_birth_year < 1942, 'member_birth_year'] = None\n",
    "df['member_age'] = current_year - df['member_birth_year']\n",
    "\n",
    "# create distance_km column\n",
    "# haversine function to calculate distance in km between two points\n",
    "# credit https://stackoverflow.com/questions/29545704/fast-haversine-approximation-python-pandas/29546836#29546836\n",
    "def haversine_np(lon1, lat1, lon2, lat2):\n",
    "    \"\"\"\n",
    "    Calculate the great circle distance between two points\n",
    "    on the earth (specified in decimal degrees)\n",
    "\n",
    "    All args must be of equal length.    \n",
    "\n",
    "    \"\"\"\n",
    "    lon1, lat1, lon2, lat2 = map(np.radians, [lon1, lat1, lon2, lat2])\n",
    "\n",
    "    dlon = lon2 - lon1\n",
    "    dlat = lat2 - lat1\n",
    "\n",
    "    a = np.sin(dlat/2.0)**2 + np.cos(lat1) * np.cos(lat2) * np.sin(dlon/2.0)**2\n",
    "\n",
    "    c = 2 * np.arcsin(np.sqrt(a))\n",
    "    km = 6367 * c\n",
    "    return km\n",
    "\n",
    "# loop through the dataframe creating the distance_km column\n",
    "for row in df:\n",
    "    start_lat = df.start_station_latitude\n",
    "    end_lat = df.end_station_latitude\n",
    "    start_lon = df.start_station_longitude\n",
    "    end_lon = df.end_station_longitude\n",
    "    df['distance_km'] = haversine_np(start_lon, start_lat, end_lon, end_lat)\n",
    "    \n",
    "# calculate speed as distance divided by time\n",
    "df['speed'] = round(df.distance_km / df.duration_min, 2)"
   ]
  },
  {
   "cell_type": "code",
   "execution_count": 4,
   "metadata": {
    "slideshow": {
     "slide_type": "skip"
    }
   },
   "outputs": [],
   "source": [
    "# create age groups\n",
    "df.loc[df['member_age'] < 30, 'age_group'] = '20s'\n",
    "df.loc[(df['member_age'] < 40) & (df['member_age'] >= 30), 'age_group'] = '30s'\n",
    "df.loc[(df['member_age'] < 50) & (df['member_age'] >= 40), 'age_group'] = '40s'\n",
    "df.loc[(df['member_age'] < 60) & (df['member_age'] >= 50), 'age_group'] = '50s'\n",
    "df.loc[(df['member_age'] < 70) & (df['member_age'] >= 60), 'age_group'] = '60s'\n",
    "df.loc[(df['member_age'] < 80) & (df['member_age'] >= 70), 'age_group'] = '70s'"
   ]
  },
  {
   "cell_type": "markdown",
   "metadata": {
    "slideshow": {
     "slide_type": "skip"
    }
   },
   "source": [
    "> Note that the above cells have been set as \"Skip\"-type slides. That means\n",
    "that when the notebook is rendered as http slides, those cells won't show up."
   ]
  },
  {
   "cell_type": "markdown",
   "metadata": {
    "slideshow": {
     "slide_type": "slide"
    }
   },
   "source": [
    "## Distribution of Rides By Day\n",
    "\n",
    "Over the month of February 2019, weekdays are significantly more popular than the weekends - the only exception being February 13, which upon investigation, turned out to have rained all day! (source: [timeanddate.com](https://www.timeanddate.com/weather/usa/san-francisco/historic?month=2&year=2019))"
   ]
  },
  {
   "cell_type": "code",
   "execution_count": 5,
   "metadata": {
    "slideshow": {
     "slide_type": "subslide"
    },
    "tags": [
     "hide-input"
    ]
   },
   "outputs": [
    {
     "data": {
      "image/png": "[encoded data removed]",
      "text/plain": [
       "<Figure size 864x360 with 1 Axes>"
      ]
     },
     "metadata": {},
     "output_type": "display_data"
    }
   ],
   "source": [
    "# plot the ride dates\n",
    "order = df.date.value_counts().index.sort_values()\n",
    "base_color = sns.color_palette()[0]\n",
    "plt.figure(figsize=[12,5])\n",
    "sns.countplot(data=df, x='date', color=base_color, order=order, hue='weekday', palette=['C0', 'C2'], dodge=False)\n",
    "plt.xlabel('Date')\n",
    "plt.ylabel('Total Rides')\n",
    "plt.title('Total Rides By Date - Feb 2019')\n",
    "plt.xticks(rotation=70)\n",
    "plt.legend(loc='upper center');"
   ]
  },
  {
   "cell_type": "markdown",
   "metadata": {
    "collapsed": true,
    "slideshow": {
     "slide_type": "slide"
    }
   },
   "source": [
    "## Average Speed By Age Group\n",
    "\n",
    "Riders in their 30s and 40s tend to ride fastest, followed by riders in their 20s and 50s.\n"
   ]
  },
  {
   "cell_type": "code",
   "execution_count": 6,
   "metadata": {
    "slideshow": {
     "slide_type": "subslide"
    },
    "tags": [
     "hide-input"
    ]
   },
   "outputs": [
    {
     "data": {
      "image/png": "[encoded data removed]",
      "text/plain": [
       "<Figure size 864x360 with 1 Axes>"
      ]
     },
     "metadata": {},
     "output_type": "display_data"
    }
   ],
   "source": [
    "plt.figure(figsize=[12,5])\n",
    "df.groupby('age_group')['speed'].mean().plot(kind='bar')\n",
    "plt.xlabel('Age Group')\n",
    "plt.ylabel('Speed (Km/min)')\n",
    "plt.xticks(rotation=0, fontsize=12)\n",
    "plt.title('Avg Speed by Age Group - Feb 2019');"
   ]
  },
  {
   "cell_type": "markdown",
   "metadata": {
    "slideshow": {
     "slide_type": "slide"
    }
   },
   "source": [
    "## Average Age of Riders During the Week and Weekend\n",
    "\n",
    "The average rider is older during the weekdays than on weekends, with a weekday mean/median age 35/37, as opposed to a weekend mean/median age of 33/36."
   ]
  },
  {
   "cell_type": "code",
   "execution_count": 7,
   "metadata": {
    "slideshow": {
     "slide_type": "subslide"
    },
    "tags": [
     "hide-input"
    ]
   },
   "outputs": [
    {
     "data": {
      "image/png": "[encoded data removed]",
      "text/plain": [
       "<Figure size 864x360 with 1 Axes>"
      ]
     },
     "metadata": {},
     "output_type": "display_data"
    }
   ],
   "source": [
    "plt.figure(figsize=[12,5])\n",
    "sns.boxplot(data=df, x='weekday', y='member_age')\n",
    "plt.xlabel('')\n",
    "plt.ylabel('Age')\n",
    "plt.title('Age by Day of Week');"
   ]
  },
  {
   "cell_type": "markdown",
   "metadata": {
    "slideshow": {
     "slide_type": "slide"
    }
   },
   "source": [
    "## Summary of Key Insights\n",
    "\n",
    "Ridership is nearly twice as high on weekdays than on weekends\n",
    "Riders in their 30s and 40s tend to ride fastest on average\n",
    "Riders on average are older during weekdays than on weekends, supporting the conclusion that ridership is largely based on workers commuting to work or other weekday commitments than for pleasure."
   ]
  },
  {
   "cell_type": "code",
   "execution_count": 1,
   "metadata": {
    "slideshow": {
     "slide_type": "-"
    }
   },
   "outputs": [
    {
     "name": "stdout",
     "output_type": "stream",
     "text": [
      "[NbConvertApp] Converting notebook Part_II_Explanatory.ipynb to slides\n",
      "[NbConvertApp] Writing 339135 bytes to Part_II_Explanatory.slides.html\n"
     ]
    }
   ],
   "source": [
    "!jupyter nbconvert Part_II_Explanatory.ipynb --to slides --no-input --no-prompt"
   ]
  }
 ],
 "metadata": {
  "celltoolbar": "Slideshow",
  "kernelspec": {
   "display_name": "Python 3",
   "language": "python",
   "name": "python3"
  },
  "language_info": {
   "codemirror_mode": {
    "name": "ipython",
    "version": 3
   },
   "file_extension": ".py",
   "mimetype": "text/x-python",
   "name": "python",
   "nbconvert_exporter": "python",
   "pygments_lexer": "ipython3",
   "version": "3.6.3"
  }
 },
 "nbformat": 4,
 "nbformat_minor": 2
}
